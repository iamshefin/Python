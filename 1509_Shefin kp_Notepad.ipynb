{
 "cells": [
  {
   "cell_type": "code",
   "execution_count": 1,
   "id": "807ae52d-5fbd-404f-b2c4-c8660f61cb03",
   "metadata": {},
   "outputs": [],
   "source": [
    "\n",
    "import tkinter as tk\n",
    "from tkinter import filedialog, messagebox\n",
    "\n",
    "def open_file():\n",
    "    file_path = filedialog.askopenfilename(defaultextension=\".txt\",\n",
    "                                           filetypes=[(\"Text Documents\", \"*.txt\"), (\"All Files\", \"*.*\")])\n",
    "    if file_path:\n",
    "        try:\n",
    "            with open(file_path, \"r\") as file:\n",
    "                text.delete(1.0, tk.END)\n",
    "                text.insert(tk.END, file.read())\n",
    "        except Exception as e:\n",
    "            messagebox.showerror(\"Error\", f\"An error occurred while opening the file: {e}\")\n",
    "\n",
    "def save_file():\n",
    "    file_path = filedialog.asksaveasfilename(defaultextension=\".txt\",\n",
    "                                             filetypes=[(\"Text Documents\", \"*.txt\"), (\"All Files\", \"*.*\")])\n",
    "    if file_path:\n",
    "        try:\n",
    "            with open(file_path, \"w\") as file:\n",
    "                file.write(text.get(1.0, tk.END))\n",
    "        except Exception as e:\n",
    "            messagebox.showerror(\"Error\", f\"An error occurred while saving the file: {e}\")\n",
    "\n",
    "def exit_app():\n",
    "    root.quit()\n",
    "\n",
    "root = tk.Tk()\n",
    "root.title(\"Notepad\")\n",
    "root.geometry(\"800x600\")\n",
    "\n",
    "text = tk.Text(root, wrap='word', undo=True)\n",
    "text.pack(fill='both', expand=True)\n",
    "\n",
    "menu = tk.Menu(root)\n",
    "root.config(menu=menu)\n",
    "\n",
    "file_menu = tk.Menu(menu, tearoff=0)\n",
    "menu.add_cascade(label=\"File\", menu=file_menu)\n",
    "file_menu.add_command(label=\"Open\", command=open_file)\n",
    "file_menu.add_command(label=\"Save\", command=save_file)\n",
    "file_menu.add_separator()\n",
    "file_menu.add_command(label=\"Exit\", command=exit_app)\n",
    "\n",
    "root.mainloop()\n",
    " "
   ]
  },
  {
   "cell_type": "code",
   "execution_count": null,
   "id": "bbf8e8f1-74e2-4047-9cda-ef2dd2577826",
   "metadata": {},
   "outputs": [],
   "source": []
  },
  {
   "cell_type": "code",
   "execution_count": null,
   "id": "1254588b-f6ee-4b94-b1f0-a5082f5fc3a3",
   "metadata": {},
   "outputs": [],
   "source": []
  },
  {
   "cell_type": "code",
   "execution_count": null,
   "id": "061ebcad-dcdf-4966-90bd-12680d32ed4a",
   "metadata": {},
   "outputs": [],
   "source": []
  },
  {
   "cell_type": "code",
   "execution_count": null,
   "id": "55ae85ce-809a-4d9c-bcc8-5bc43bfbcfbc",
   "metadata": {},
   "outputs": [],
   "source": []
  }
 ],
 "metadata": {
  "kernelspec": {
   "display_name": "Python 3 (ipykernel)",
   "language": "python",
   "name": "python3"
  },
  "language_info": {
   "codemirror_mode": {
    "name": "ipython",
    "version": 3
   },
   "file_extension": ".py",
   "mimetype": "text/x-python",
   "name": "python",
   "nbconvert_exporter": "python",
   "pygments_lexer": "ipython3",
   "version": "3.12.4"
  }
 },
 "nbformat": 4,
 "nbformat_minor": 5
}
